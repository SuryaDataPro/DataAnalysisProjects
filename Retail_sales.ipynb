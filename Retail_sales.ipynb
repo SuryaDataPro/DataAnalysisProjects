{
 "cells": [
  {
   "cell_type": "markdown",
   "id": "ca1ab00b-b530-4f5d-80b1-36639a7f11e0",
   "metadata": {},
   "source": [
    "## Exploratory Data Analysis (EDA) on Retail Sales Data"
   ]
  },
  {
   "cell_type": "code",
   "execution_count": null,
   "id": "5e3466d0-666a-45ff-a3a6-881eaa333b7a",
   "metadata": {},
   "outputs": [],
   "source": [
    "import pandas as pd\n",
    "import numpy as np\n",
    "import matplotlib.pyplot as plt\n",
    "import seaborn as sns"
   ]
  },
  {
   "cell_type": "markdown",
   "id": "9fa76134-d8eb-4412-8485-7f441582dc9f",
   "metadata": {},
   "source": [
    "## Data Loading and Cleaning"
   ]
  },
  {
   "cell_type": "code",
   "execution_count": null,
   "id": "2cd893ff-f3f5-47bf-b745-65ded31dfeab",
   "metadata": {},
   "outputs": [],
   "source": [
    "df = pd.read_csv(\"retail_sales_dataset.csv\",parse_dates=['Date'])\n",
    "df"
   ]
  },
  {
   "cell_type": "code",
   "execution_count": null,
   "id": "23047421-d545-45d9-9bca-6d2be14cb89a",
   "metadata": {},
   "outputs": [],
   "source": [
    "df.info()\n",
    "df.head()"
   ]
  },
  {
   "cell_type": "code",
   "execution_count": null,
   "id": "5402240b-cffb-4add-a8e2-972eabb5e402",
   "metadata": {},
   "outputs": [],
   "source": [
    "df = df.rename(columns={'Total Amount': 'TotalAmount'})\n"
   ]
  },
  {
   "cell_type": "code",
   "execution_count": null,
   "id": "6a96da96-d40f-48f6-b331-81ed92c27a78",
   "metadata": {},
   "outputs": [],
   "source": [
    "df1=df.isnull().sum\n",
    "df1"
   ]
  },
  {
   "cell_type": "code",
   "execution_count": null,
   "id": "0290fcfe-f8d8-4a0a-8934-f0ec6c8f0818",
   "metadata": {},
   "outputs": [],
   "source": [
    "pd.isnull(df).sum()  #to check for null values"
   ]
  },
  {
   "cell_type": "code",
   "execution_count": null,
   "id": "1599fb17-6c22-49a1-a090-d62c74097d7d",
   "metadata": {},
   "outputs": [],
   "source": [
    "df.dtypes"
   ]
  },
  {
   "cell_type": "code",
   "execution_count": null,
   "id": "808f02ca-d4b1-456d-9602-95fedb8d803b",
   "metadata": {},
   "outputs": [],
   "source": [
    "df = df.drop_duplicates()"
   ]
  },
  {
   "cell_type": "markdown",
   "id": "6225b3c8-13f8-46f3-afe3-5a602b7bbe32",
   "metadata": {},
   "source": [
    "## Descriptive Statistics"
   ]
  },
  {
   "cell_type": "code",
   "execution_count": null,
   "id": "d2e6b98c-546f-4543-bcdd-05056d3813ce",
   "metadata": {},
   "outputs": [],
   "source": [
    "mean_value=df['TotalAmount'].mean()\n",
    "median_value=df['TotalAmount'].median()\n",
    "mode_value=df['TotalAmount'].mode()\n",
    "std_value=df['TotalAmount'].std()\n",
    "print(f\"Mean: {mean_value},Median: {median_value},Mode: {mode_value},standard_deviation: {std_value}\")"
   ]
  },
  {
   "cell_type": "markdown",
   "id": "1173de1d-e296-4ac4-94e8-9589505d8ed5",
   "metadata": {},
   "source": [
    "##  Time Series Analysis"
   ]
  },
  {
   "cell_type": "markdown",
   "id": "fcdbf9f8-b1a9-4be1-9135-9efe13302ed6",
   "metadata": {},
   "source": [
    " Analysing the sales based on monthly and yearly growth"
   ]
  },
  {
   "cell_type": "code",
   "execution_count": null,
   "id": "69d1e487-4a39-498e-b8dd-6565e7eb375f",
   "metadata": {},
   "outputs": [],
   "source": [
    "# Set 'date' column as the index\n",
    "df.sort_values(by='Date', inplace=True)\n",
    "print(df)"
   ]
  },
  {
   "cell_type": "code",
   "execution_count": null,
   "id": "72013cce-568d-45d4-a556-81875f203068",
   "metadata": {},
   "outputs": [],
   "source": [
    "df.set_index('Date', inplace=True)"
   ]
  },
  {
   "cell_type": "code",
   "execution_count": null,
   "id": "c4315257-cde4-4a88-9b3c-1ef22f37ef3f",
   "metadata": {},
   "outputs": [],
   "source": [
    "#monthly sales \n",
    "monthly_sale=df['TotalAmount'].resample('ME').mean()\n",
    "monthly_sale.plot()"
   ]
  },
  {
   "cell_type": "code",
   "execution_count": null,
   "id": "dd011ea8-0afa-46ea-9272-75288e4421c2",
   "metadata": {},
   "outputs": [],
   "source": [
    "#yearly sales\n",
    "yearly_quantity=df['TotalAmount'].resample('YE').mean()\n",
    "yearly_quantity.plot()"
   ]
  },
  {
   "cell_type": "markdown",
   "id": "48959a4c-979c-4aa2-b5e0-9de38ff56fa8",
   "metadata": {},
   "source": [
    "## Customer and Product Analysis\n",
    "We can analyze the demographics of customers and their purchasing behavior."
   ]
  },
  {
   "cell_type": "code",
   "execution_count": null,
   "id": "02556229-586c-4300-a2e9-4ac61f7561a0",
   "metadata": {},
   "outputs": [],
   "source": [
    "df.columns"
   ]
  },
  {
   "cell_type": "code",
   "execution_count": null,
   "id": "e65d4555-19e0-4246-84b2-7e2b40398d69",
   "metadata": {},
   "outputs": [],
   "source": [
    "gender = df.groupby('Gender')['TotalAmount'].mean()\n",
    "print(gender)"
   ]
  },
  {
   "cell_type": "code",
   "execution_count": null,
   "id": "e801b2e8-f22c-4d89-b42f-3774012d41ff",
   "metadata": {},
   "outputs": [],
   "source": [
    "Age= df.groupby('Age')['TotalAmount'].mean().sort_values(ascending=False).head(10)\n",
    "print(Age)"
   ]
  },
  {
   "cell_type": "code",
   "execution_count": null,
   "id": "18355afc-daaf-4771-ac06-501f6e6de8d7",
   "metadata": {},
   "outputs": [],
   "source": [
    "products_amount = df.groupby('Product Category')['TotalAmount'].sum().sort_values(ascending=False)\n",
    "print(products_amount)"
   ]
  },
  {
   "cell_type": "code",
   "execution_count": null,
   "id": "98a2b551-f2e8-4766-a4e3-e682494005c0",
   "metadata": {},
   "outputs": [],
   "source": [
    "# gender and product category\n",
    "gender_product_purchased=pd.crosstab(df['Gender'], df['Product Category'])\n",
    "print(gender_product_purchased)"
   ]
  },
  {
   "cell_type": "markdown",
   "id": "49721f13-55af-4775-8f0b-1a1ac7cec9ee",
   "metadata": {},
   "source": [
    "## Visualization\n",
    "You can visualize different insights, such as sales trends, customer demographics, or correlations between variables."
   ]
  },
  {
   "cell_type": "code",
   "execution_count": null,
   "id": "5628cad1-10cb-41e5-87ee-aae44b798438",
   "metadata": {},
   "outputs": [],
   "source": [
    "ax=sns.countplot(x= 'Gender', data=df)\n",
    "\n",
    "for bars in ax.containers:\n",
    "    ax.bar_label(bars)"
   ]
  },
  {
   "cell_type": "code",
   "execution_count": null,
   "id": "32f3a896-0354-49c5-ae96-2a1326ec1409",
   "metadata": {
    "scrolled": true
   },
   "outputs": [],
   "source": [
    "# Group by Gender and calculate total amount for each product\n",
    "quantity_sold = df.groupby(['Gender'],as_index=False)['TotalAmount'].sum().sort_values(by='TotalAmount',ascending=False)\n",
    "sns.barplot(x= 'Gender', y= 'TotalAmount', data= quantity_sold)"
   ]
  },
  {
   "cell_type": "markdown",
   "id": "0339cdc8-8b76-41de-a845-3ad4a6d883b4",
   "metadata": {},
   "source": [
    "From the above graph it is clear that female have spend more amount than male for purchasing."
   ]
  },
  {
   "cell_type": "code",
   "execution_count": null,
   "id": "2464c17e-3eac-45df-972f-f5874861cc40",
   "metadata": {},
   "outputs": [],
   "source": [
    "# Product demographics analysis \n",
    "product_demographics= df.groupby(['Product Category'],as_index=False)['Quantity'].sum().sort_values(by='Quantity',ascending=False)\n",
    "sns.set(rc={'figure.figsize':(15,6)})\n",
    "sns.barplot(data= product_demographics, x='Product Category',y='Quantity',hue='Product Category', palette='viridis', legend=False)\n"
   ]
  },
  {
   "cell_type": "markdown",
   "id": "464ac622-1733-4c5a-b4ce-530f77ab74e7",
   "metadata": {},
   "source": [
    "From the above plot it is clear that female are spending more for purchasing than male and also in terms of product category it is clear that Electronics are purchased more and the least for Beauty product."
   ]
  },
  {
   "cell_type": "code",
   "execution_count": null,
   "id": "3e0a546f-8760-4a29-8527-2196c55df5e7",
   "metadata": {},
   "outputs": [],
   "source": [
    "Age.plot(kind='barh',color='g')\n",
    "plt.title(\"Amount spend\",fontsize=14)\n",
    "plt.xlabel('TotalAmount')\n",
    "plt.ylabel('Age')\n",
    "plt.show()"
   ]
  },
  {
   "cell_type": "markdown",
   "id": "1c487bc0-7640-4bc2-9c26-109564d2c516",
   "metadata": {},
   "source": [
    "In the above bar graph it is clear that person having age of 37 spend more amount spend followed by 19 years old age group."
   ]
  },
  {
   "cell_type": "code",
   "execution_count": null,
   "id": "e783d859-af45-4da4-8162-f7de3fa32323",
   "metadata": {},
   "outputs": [],
   "source": [
    "#Comparing the product purchased based on gender by ploting bar graph\n",
    "gender_product_purchased.plot(kind='bar')\n",
    "plt.title(\"Product purchased by Male and Female\",fontsize=14)\n",
    "plt.xlabel('Gender')\n",
    "plt.ylabel('Product Category')\n",
    "plt.show()\n"
   ]
  },
  {
   "cell_type": "markdown",
   "id": "49cceefb-bcb9-45fb-9ef0-76cbf7dfb8be",
   "metadata": {},
   "source": [
    "## Recommendation"
   ]
  },
  {
   "cell_type": "markdown",
   "id": "239c839a-c9b4-4de6-be52-304a1ad45428",
   "metadata": {},
   "source": [
    "\n",
    "##### Analyze Monthly Fluctuations:\n",
    "Since there have been fluctuation in totals from January 2023 to January 2024, it’s important to figure out what caused these changes. To understand the drivers of spikes, particularly in February 2023 and January 2024, it is necessary to take a close look at outside factors such as seasons, special sales, or economic events etc.\n",
    "\n",
    "##### Identify Outliers and Events:\n",
    "The significant spikes in February 2023 and January 2024 suggest potential outliers or events that may have influenced spending patterns. Check if these spikes are linked to things like marketing campaigns, sales, holidays, or changes in the economy. Understanding these events can help make better predictions and improve planning for future sales\n",
    "\n",
    "#### Targeted Product Promotions by Gender:\n",
    "\n",
    "##### Clothing as a Core Focus for Both Genders: \n",
    "Since both females (174 purchases) and males (177 purchases) show strong interest in Clothing, consider launching targeted, gender-specific Clothing promotions. Create personalized offers that appeal to the distinct preferences of each gender, potentially offering exclusive designs, seasonal collections, or discounts tailored to these customer groups.\n",
    "Beauty Products for Female Shoppers:\n",
    "\n",
    "##### Expand Beauty Offerings for Females: \n",
    "The slightly higher interest in Beauty products among females (166 purchases) presents an opportunity to introduce new beauty product lines, bundled deals, or exclusive beauty promotions aimed at female shoppers.\n",
    "Electronics Engagement for Males:\n",
    "\n",
    "##### Targeted Promotions for Males in Electronics:\n",
    "Males showed significant interest in Electronics (172 purchases), which makes it a key area for growth. Consider special offers such as bundle deals, rewards, or flash sales in the Electronics category. Additionally, targeted marketing campaigns can be designed to highlight the latest tech products, gadgets, or seasonal promotions.\n",
    "\n",
    "Overall, by giving cross-category promotion,it will encourage the customers to explore products in multiple categories such as Clothing, Beauty, and Electronics. For instance, offer a discount on Beauty products with a Clothing purchase or vice versa. Similarly, for males who purchase electronics, consider recommending complementary items from the Clothing category, promoting a wider range of products across gender-based preferences.\n",
    "\n",
    "##### Continuous Monitoring and Trend Adjustments:\n",
    "It is also important to regularly review sales data to adjust product offerings, promotions, and marketing strategies in response to emerging trends and customer preferences. As the data reveals that the treands gets fluctuates over time, which indicates that continuous monitoring of purchasing behaviours.\n",
    "\n",
    "##### Adapt to Changing Purchasing Patterns: \n",
    "The data reveals that trends fluctuate over time, signaling the need for continuous monitoring of purchasing behaviors. Regularly review sales data to adjust product offerings, promotions, and marketing strategies in response to emerging trends and customer preferences. Utilize these insights to refine product assortments, inventory management, and marketing efforts for optimal engagement.\n",
    "By applying these insights, businesses can better adjust their strategies to match changing customer preferences and market trends, leading to a more focused approach that boosts growth and enhances customer satisfaction.\n",
    "\n",
    "\n",
    "\n"
   ]
  },
  {
   "cell_type": "markdown",
   "id": "e3dbb41b-f377-44db-a817-61bcaab55925",
   "metadata": {},
   "source": []
  }
 ],
 "metadata": {
  "kernelspec": {
   "display_name": "Python 3 (ipykernel)",
   "language": "python",
   "name": "python3"
  },
  "language_info": {
   "codemirror_mode": {
    "name": "ipython",
    "version": 3
   },
   "file_extension": ".py",
   "mimetype": "text/x-python",
   "name": "python",
   "nbconvert_exporter": "python",
   "pygments_lexer": "ipython3",
   "version": "3.11.9"
  }
 },
 "nbformat": 4,
 "nbformat_minor": 5
}
